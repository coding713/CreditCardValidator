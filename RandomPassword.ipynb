{
 "cells": [
  {
   "cell_type": "code",
   "execution_count": null,
   "metadata": {},
   "outputs": [],
   "source": [
    "\n",
    "import random\n",
    "\n",
    "length = input(\"How long do you want the password? \") \n",
    "if length.isdigit() and 0<int(length)<=30:\n",
    "    pool =\"abcdefghijklmnopqrstuvwxyz0123456789!@#$\"\n",
    "    list1 = [x for x in pool]\n",
    "    passwdlen = 0 \n",
    "    while(passwdlen<int(length)):\n",
    "        randchar = random.choice(list1)\n",
    "        \n",
    "        print(randchar,end='')\n",
    "        passwdlen = passwdlen + 1\n",
    "else:\n",
    "    print(\"Please print a numerical value between 1-30\")\n",
    "#print()"
   ]
  }
 ],
 "metadata": {
  "kernelspec": {
   "display_name": "Python 3",
   "language": "python",
   "name": "python3"
  },
  "language_info": {
   "codemirror_mode": {
    "name": "ipython",
    "version": 3
   },
   "file_extension": ".py",
   "mimetype": "text/x-python",
   "name": "python",
   "nbconvert_exporter": "python",
   "pygments_lexer": "ipython3",
   "version": "3.8.5"
  }
 },
 "nbformat": 4,
 "nbformat_minor": 4
}
