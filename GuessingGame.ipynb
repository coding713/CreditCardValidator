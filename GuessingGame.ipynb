{
 "cells": [
  {
   "cell_type": "code",
   "execution_count": 1,
   "metadata": {},
   "outputs": [
    {
     "name": "stdout",
     "output_type": "stream",
     "text": [
      "Rules: Guess a number between 1 and 100\n",
      " Within 2 you are on lava\n",
      " Within 5 you'll be very hot\n",
      " Within 10 you'll be hot\n",
      " Within 20 you'll be warm\n",
      " Within 30 you are cold\n",
      " Within 50 you are very cold\n",
      " After that you are freezing\n",
      "Guess a number between 1 to 100? 20\n",
      "You are freezing\n",
      "Guess a number between 1 to 100? 30\n",
      "You are very cold\n",
      "Guess a number between 1 to 100? 40\n",
      "You are very cold\n",
      "Guess a number between 1 to 100? 50\n",
      "You are cold\n",
      "Guess a number between 1 to 100? 60\n",
      "You are warm\n",
      "Guess a number between 1 to 100? 70\n",
      "You are very hot\n",
      "Guess a number between 1 to 100? 80\n",
      "You are hot\n",
      "Guess a number between 1 to 100? \n",
      "Please enter a number between 1 and 100\n",
      "Guess a number between 1 to 100? 90\n",
      "You are warm\n",
      "Guess a number between 1 to 100? 82\n",
      "You are hot\n",
      "Guess a number between 1 to 100? 85\n",
      "You are warm\n",
      "Guess a number between 1 to 100? \n",
      "Please enter a number between 1 and 100\n",
      "Guess a number between 1 to 100? 75\n",
      "You are on lava\n",
      "Guess a number between 1 to 100? 76\n",
      "You are very hot\n",
      "Guess a number between 1 to 100? 74\n",
      "You are on lava\n",
      "Guess a number between 1 to 100? 73\n",
      "You guessed correctly!\n"
     ]
    }
   ],
   "source": [
    "import random\n",
    "\n",
    "scope = list(range(1,101))\n",
    "guess_num = random.choice(scope)\n",
    "user_guess = 0\n",
    "print(\"Rules: Guess a number between 1 and 100\")\n",
    "print(\" Within 2 you are on lava\\n Within 5 you'll be very hot\\n Within 10 you'll be hot\\n Within 20 you'll be warm\\n Within 30 you are cold\\n Within 50 you are very cold\")\n",
    "print(\" After that you are freezing\")\n",
    "while(guess_num!=user_guess):\n",
    "    user_guess = input(\"Guess a number between 1 to 100? \")\n",
    "    if user_guess.isdigit() and 1<=int(user_guess)<101:   \n",
    "        user_guess = int(user_guess)\n",
    "        if guess_num == user_guess: \n",
    "            break \n",
    "        elif (-2<=(guess_num - user_guess)<=2):\n",
    "            print(\"You are on lava\")        \n",
    "        elif (-5<=(guess_num - user_guess)<=5):\n",
    "            print(\"You are very hot\")\n",
    "        elif (-10<=(guess_num - user_guess)<=10):\n",
    "            print(\"You are hot\")\n",
    "        elif (-20<=(guess_num - user_guess)<=20):\n",
    "            print(\"You are warm\")\n",
    "        elif (-30<=(guess_num - user_guess)<=30):\n",
    "            print(\"You are cold\")\n",
    "        elif (-50<=(guess_num - user_guess)<=50):\n",
    "            print(\"You are very cold\")\n",
    "        else:\n",
    "            print(\"You are freezing\")\n",
    "    else: \n",
    "        print(\"Please enter a number between 1 and 100\")\n",
    "print('You guessed correctly!')"
   ]
  },
  {
   "cell_type": "code",
   "execution_count": null,
   "metadata": {},
   "outputs": [],
   "source": []
  }
 ],
 "metadata": {
  "kernelspec": {
   "display_name": "Python 3",
   "language": "python",
   "name": "python3"
  },
  "language_info": {
   "codemirror_mode": {
    "name": "ipython",
    "version": 3
   },
   "file_extension": ".py",
   "mimetype": "text/x-python",
   "name": "python",
   "nbconvert_exporter": "python",
   "pygments_lexer": "ipython3",
   "version": "3.8.5"
  }
 },
 "nbformat": 4,
 "nbformat_minor": 4
}
