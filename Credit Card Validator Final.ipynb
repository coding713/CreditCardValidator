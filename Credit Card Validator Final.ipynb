{
 "cells": [
  {
   "cell_type": "code",
   "execution_count": 1,
   "metadata": {},
   "outputs": [
    {
     "name": "stdout",
     "output_type": "stream",
     "text": [
      "What is your credit card number? 123\n",
      "Please enter a valid 16 digit credit card number!\n"
     ]
    }
   ],
   "source": [
    "cnlist = input(\"What is your credit card number? \")\n",
    "\n",
    "if cnlist.isdigit() and len(cnlist) == 16:\n",
    "    cn = [int(x) for x in cnlist]\n",
    "\n",
    "#def card_validator:\n",
    "    sumx = 0\n",
    "    list_1 = cn[0::2]\n",
    "    for num in list_1:\n",
    "        x = num * 2\n",
    "        if x >= 10:\n",
    "            x = (x//10 + x%10)\n",
    "        sumx = sumx + x\n",
    "\n",
    "\n",
    "    sumy = 0\n",
    "    list_2 = cn[1::2]\n",
    "    for num in list_2:\n",
    "        y = num * 1\n",
    "        sumy = sumy + y\n",
    "\n",
    "    sumall = sumx+sumy\n",
    "    if sumall%10 == 0:\n",
    "        print(\"It is valid\")\n",
    "    else:\n",
    "        print(\"It is invalid\")\n",
    "else:\n",
    "    print(\"Please enter a valid 16 digit credit card number!\")"
   ]
  },
  {
   "cell_type": "code",
   "execution_count": null,
   "metadata": {},
   "outputs": [],
   "source": []
  },
  {
   "cell_type": "code",
   "execution_count": null,
   "metadata": {},
   "outputs": [],
   "source": []
  }
 ],
 "metadata": {
  "kernelspec": {
   "display_name": "Python 3",
   "language": "python",
   "name": "python3"
  },
  "language_info": {
   "codemirror_mode": {
    "name": "ipython",
    "version": 3
   },
   "file_extension": ".py",
   "mimetype": "text/x-python",
   "name": "python",
   "nbconvert_exporter": "python",
   "pygments_lexer": "ipython3",
   "version": "3.8.5"
  }
 },
 "nbformat": 4,
 "nbformat_minor": 4
}
